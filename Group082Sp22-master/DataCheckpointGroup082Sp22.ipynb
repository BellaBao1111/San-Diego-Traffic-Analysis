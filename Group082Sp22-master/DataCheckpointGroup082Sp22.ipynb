{
 "cells": [
  {
   "cell_type": "markdown",
   "metadata": {},
   "source": [
    "# COGS 108 - Data Checkpoint"
   ]
  },
  {
   "cell_type": "markdown",
   "metadata": {},
   "source": [
    "# Names\n",
    "\n",
    "- Jiayang Bao\n",
    "- Yuxuan Chen\n",
    "- Jingtian Ma\n",
    "- Tianze Zhang\n",
    "- Cindy Wang"
   ]
  },
  {
   "cell_type": "markdown",
   "metadata": {},
   "source": [
    "<a id='research_question'></a>\n",
    "# Research Question"
   ]
  },
  {
   "cell_type": "markdown",
   "metadata": {},
   "source": [
    "Whether traffic accidents in San Diego are specifically linked to time and location, and the impact of the types of accidents that occur in different time &locations.\n",
    "\n"
   ]
  },
  {
   "cell_type": "markdown",
   "metadata": {},
   "source": [
    "# Dataset(s)"
   ]
  },
  {
   "cell_type": "markdown",
   "metadata": {},
   "source": [
    "*Fill in your dataset information here*\n",
    "\n",
    "(Copy this information for each dataset)\n",
    "- Dataset Name: traffic collision data of San Diego \n",
    "- Link to the dataset: https://data.sandiego.gov/datasets/police-collisions/\n",
    "- Number of observations: 37145\n",
    "\n",
    "It's the data of date/time, types and locations of collision accidents in Sna Deigo within 2017-2022."
   ]
  },
  {
   "cell_type": "markdown",
   "metadata": {},
   "source": [
    "# Setup"
   ]
  },
  {
   "cell_type": "code",
   "execution_count": 1,
   "metadata": {},
   "outputs": [],
   "source": [
    "## YOUR CODE HERE\n",
    "import pandas as pd\n",
    "import numpy as np\n",
    "import seaborn as sns\n",
    "import warnings"
   ]
  },
  {
   "cell_type": "markdown",
   "metadata": {},
   "source": [
    "# Data Cleaning"
   ]
  },
  {
   "cell_type": "markdown",
   "metadata": {},
   "source": [
    "Describe your data cleaning steps here."
   ]
  },
  {
   "cell_type": "markdown",
   "metadata": {},
   "source": [
    "- How 'clean' is the data?\n",
    "<br>\n",
    "<br>\n",
    "    All the column names are very descriptive and concise. Same type of data are always have the same name. All the standard and units are following in the same way. In the data cleaning process, we did below process so that the data can be directly used when we doing our analysis."
   ]
  },
  {
   "cell_type": "markdown",
   "metadata": {},
   "source": [
    "- What did you have to do to get the data into a usable format? (If you did nothing, how did you determine there was nothing to do?)\n",
    "<br>\n",
    "<br>\n",
    "    We add up the column of injured and death by using the equation injured+killed*3 to get the severity score and put it to the new column named severity. We then drop the column injured and death. Also, we drop the rows which contains null values in the subset columns that we need to use. We extract the information about when the collision happened in terms of hour and month and put it to two new column. We drop the columns that we will not use in the future."
   ]
  },
  {
   "cell_type": "markdown",
   "metadata": {},
   "source": [
    "- What pre-processing steps that were required for your methods (for example, checking data distributions and performing any transformations that may be required)? \n",
    "<br>\n",
    "<br>\n",
    "    Before processing the data, we need to check the range of the data and decide what specific time period we want to perform cleaning. While determining a specific time, we also need to make sure that there are a reasonable number of observations that we could analyze. Furthermore, we need to determine which columns to remain. Once we decide all of them, we could begin cleaning the data by getting rid of all null/na values. There are only a few missing values, and since our datasets contain a lot of observations, we believe that removing few missing values would not impact the overall distribution of the dataset. We should also get rid of all noisy values such as a negative number for inside injured/died columns, but since the data we obtained are from a government website, we believed that we shouldn’t find any invalid value. Our data should not contain any “outlier” since all data are from real traffic collisions and accidents."
   ]
  },
  {
   "cell_type": "code",
   "execution_count": 2,
   "metadata": {},
   "outputs": [
    {
     "name": "stdout",
     "output_type": "stream",
     "text": [
      "violation_section: False\n",
      "Severity: False\n",
      "date_in_month: False\n",
      "date_in_hour: False\n",
      "date_time: False\n",
      "address_road_primary: True\n",
      "address_road_primary: False\n"
     ]
    },
    {
     "data": {
      "text/html": [
       "<div>\n",
       "<style scoped>\n",
       "    .dataframe tbody tr th:only-of-type {\n",
       "        vertical-align: middle;\n",
       "    }\n",
       "\n",
       "    .dataframe tbody tr th {\n",
       "        vertical-align: top;\n",
       "    }\n",
       "\n",
       "    .dataframe thead th {\n",
       "        text-align: right;\n",
       "    }\n",
       "</style>\n",
       "<table border=\"1\" class=\"dataframe\">\n",
       "  <thead>\n",
       "    <tr style=\"text-align: right;\">\n",
       "      <th></th>\n",
       "      <th>date_time</th>\n",
       "      <th>address_road_primary</th>\n",
       "      <th>address_sfx_primary</th>\n",
       "      <th>violation_section</th>\n",
       "      <th>violation_type</th>\n",
       "      <th>date_in_month</th>\n",
       "      <th>date_in_hour</th>\n",
       "      <th>Severity</th>\n",
       "    </tr>\n",
       "  </thead>\n",
       "  <tbody>\n",
       "    <tr>\n",
       "      <th>28684</th>\n",
       "      <td>2018-01-01 00:30:00</td>\n",
       "      <td>EL CAMINO DE TEATRO</td>\n",
       "      <td></td>\n",
       "      <td>22350</td>\n",
       "      <td>VC</td>\n",
       "      <td>1</td>\n",
       "      <td>0</td>\n",
       "      <td>0</td>\n",
       "    </tr>\n",
       "    <tr>\n",
       "      <th>28685</th>\n",
       "      <td>2018-01-01 01:00:00</td>\n",
       "      <td>ROSECRANS</td>\n",
       "      <td>STREET</td>\n",
       "      <td>22350</td>\n",
       "      <td>VC</td>\n",
       "      <td>1</td>\n",
       "      <td>1</td>\n",
       "      <td>0</td>\n",
       "    </tr>\n",
       "    <tr>\n",
       "      <th>28686</th>\n",
       "      <td>2018-01-01 01:26:00</td>\n",
       "      <td>PALM</td>\n",
       "      <td>AVENUE</td>\n",
       "      <td>21954A</td>\n",
       "      <td>VC</td>\n",
       "      <td>1</td>\n",
       "      <td>1</td>\n",
       "      <td>3</td>\n",
       "    </tr>\n",
       "    <tr>\n",
       "      <th>28687</th>\n",
       "      <td>2018-01-01 02:05:00</td>\n",
       "      <td>LOGAN</td>\n",
       "      <td>AVENUE</td>\n",
       "      <td>22450(A)</td>\n",
       "      <td>VC</td>\n",
       "      <td>1</td>\n",
       "      <td>2</td>\n",
       "      <td>0</td>\n",
       "    </tr>\n",
       "    <tr>\n",
       "      <th>28688</th>\n",
       "      <td>2018-01-01 02:26:00</td>\n",
       "      <td>DIVISION</td>\n",
       "      <td>STREET</td>\n",
       "      <td>22107</td>\n",
       "      <td>VC</td>\n",
       "      <td>1</td>\n",
       "      <td>2</td>\n",
       "      <td>0</td>\n",
       "    </tr>\n",
       "    <tr>\n",
       "      <th>...</th>\n",
       "      <td>...</td>\n",
       "      <td>...</td>\n",
       "      <td>...</td>\n",
       "      <td>...</td>\n",
       "      <td>...</td>\n",
       "      <td>...</td>\n",
       "      <td>...</td>\n",
       "      <td>...</td>\n",
       "    </tr>\n",
       "    <tr>\n",
       "      <th>65824</th>\n",
       "      <td>2021-12-31 18:00:00</td>\n",
       "      <td>SAN YSIDRO</td>\n",
       "      <td>BOULEVARD</td>\n",
       "      <td>20002(A)</td>\n",
       "      <td>VC</td>\n",
       "      <td>12</td>\n",
       "      <td>18</td>\n",
       "      <td>0</td>\n",
       "    </tr>\n",
       "    <tr>\n",
       "      <th>65825</th>\n",
       "      <td>2021-12-31 19:35:00</td>\n",
       "      <td>OF CURBLINE 1900 CYPRESS</td>\n",
       "      <td>AVENUE</td>\n",
       "      <td>21750</td>\n",
       "      <td>VC</td>\n",
       "      <td>12</td>\n",
       "      <td>19</td>\n",
       "      <td>1</td>\n",
       "    </tr>\n",
       "    <tr>\n",
       "      <th>65826</th>\n",
       "      <td>2021-12-31 20:15:52</td>\n",
       "      <td>35TH</td>\n",
       "      <td>STREET</td>\n",
       "      <td>21453B</td>\n",
       "      <td>VC</td>\n",
       "      <td>12</td>\n",
       "      <td>20</td>\n",
       "      <td>0</td>\n",
       "    </tr>\n",
       "    <tr>\n",
       "      <th>65827</th>\n",
       "      <td>2021-12-31 20:23:18</td>\n",
       "      <td>HAWTHORN</td>\n",
       "      <td>STREET</td>\n",
       "      <td>22350</td>\n",
       "      <td>VC</td>\n",
       "      <td>12</td>\n",
       "      <td>20</td>\n",
       "      <td>1</td>\n",
       "    </tr>\n",
       "    <tr>\n",
       "      <th>65828</th>\n",
       "      <td>2021-12-31 21:41:00</td>\n",
       "      <td>PACIFIC</td>\n",
       "      <td>HIGHWAY</td>\n",
       "      <td>22350</td>\n",
       "      <td>VC</td>\n",
       "      <td>12</td>\n",
       "      <td>21</td>\n",
       "      <td>1</td>\n",
       "    </tr>\n",
       "  </tbody>\n",
       "</table>\n",
       "<p>37144 rows × 8 columns</p>\n",
       "</div>"
      ],
      "text/plain": [
       "                 date_time      address_road_primary address_sfx_primary  \\\n",
       "28684  2018-01-01 00:30:00       EL CAMINO DE TEATRO                       \n",
       "28685  2018-01-01 01:00:00                 ROSECRANS              STREET   \n",
       "28686  2018-01-01 01:26:00                      PALM              AVENUE   \n",
       "28687  2018-01-01 02:05:00                     LOGAN              AVENUE   \n",
       "28688  2018-01-01 02:26:00                  DIVISION              STREET   \n",
       "...                    ...                       ...                 ...   \n",
       "65824  2021-12-31 18:00:00                SAN YSIDRO           BOULEVARD   \n",
       "65825  2021-12-31 19:35:00  OF CURBLINE 1900 CYPRESS              AVENUE   \n",
       "65826  2021-12-31 20:15:52                      35TH              STREET   \n",
       "65827  2021-12-31 20:23:18                  HAWTHORN              STREET   \n",
       "65828  2021-12-31 21:41:00                   PACIFIC             HIGHWAY   \n",
       "\n",
       "      violation_section violation_type  date_in_month  date_in_hour  Severity  \n",
       "28684             22350             VC              1             0         0  \n",
       "28685             22350             VC              1             1         0  \n",
       "28686            21954A             VC              1             1         3  \n",
       "28687          22450(A)             VC              1             2         0  \n",
       "28688             22107             VC              1             2         0  \n",
       "...                 ...            ...            ...           ...       ...  \n",
       "65824          20002(A)             VC             12            18         0  \n",
       "65825             21750             VC             12            19         1  \n",
       "65826            21453B             VC             12            20         0  \n",
       "65827             22350             VC             12            20         1  \n",
       "65828             22350             VC             12            21         1  \n",
       "\n",
       "[37144 rows x 8 columns]"
      ]
     },
     "execution_count": 2,
     "metadata": {},
     "output_type": "execute_result"
    }
   ],
   "source": [
    "## YOUR CODE HERE\n",
    "## FEEL FREE TO ADD MULTIPLE CELLS PER SECTION\n",
    "\n",
    "warnings.filterwarnings(\"ignore\")\n",
    "#read in data from csv\n",
    "df = pd.read_csv('pd_collisions_datasd_v1.csv')\n",
    "#show unclean data\n",
    "df.head()\n",
    "#delete report_id police_beat address_no_primary address_pd_primary address_pd_intersecting address_name_intersecting address_sfx_intersecting violation_section hit_run_1v1\n",
    "df=df.drop(columns=['report_id','police_beat','address_no_primary','address_pd_primary','address_pd_intersecting','address_name_intersecting','address_sfx_intersecting','charge_desc','hit_run_lvl'])\n",
    "#add new date_in_month column to store the month\n",
    "df[\"date_in_month\"]=df[\"date_time\"].str[5:7]\n",
    "df[\"date_in_month\"]=df[\"date_in_month\"].astype(int)\n",
    "#add new date_in_month column to store the hour of the day\n",
    "df[\"date_in_hour\"]=df[\"date_time\"].str[10:13]\n",
    "df[\"date_in_hour\"]=df[\"date_in_hour\"].astype(int)\n",
    "#add up injured+killed*3 new column named severity\n",
    "#killed has higher weights in severity than injured so we times 3 in killed number\n",
    "df[\"Severity\"]=df[\"injured\"]+df[\"killed\"]*3\n",
    "df=df.drop(columns=['injured','killed'])\n",
    "#only keep data that has date_time range from 2018 to 2021\n",
    "list = [\"2015\",\"2016\",\"2017\",\"2022\"]\n",
    "for i in list:\n",
    "    df = df[df[\"date_time\"].str.contains(i) == False]\n",
    "# check for null, we find out address_road_primary has one row of null, we choose to delete it\n",
    "print('violation_section:',df['violation_section'].hasnans)\n",
    "print('Severity:',df['Severity'].hasnans)\n",
    "print('date_in_month:',df['date_in_month'].hasnans)\n",
    "print('date_in_hour:',df['date_in_hour'].hasnans)\n",
    "print('date_time:',df['date_time'].hasnans)\n",
    "print('address_road_primary:',df['address_road_primary'].hasnans)\n",
    "df[df['address_road_primary'].isnull()]\n",
    "df=df.dropna(subset=['address_road_primary'])\n",
    "print('address_road_primary:',df['address_road_primary'].hasnans)\n",
    "#show clean data\n",
    "df"
   ]
  }
 ],
 "metadata": {
  "kernelspec": {
   "display_name": "Python 3 (ipykernel)",
   "language": "python",
   "name": "python3"
  },
  "language_info": {
   "codemirror_mode": {
    "name": "ipython",
    "version": 3
   },
   "file_extension": ".py",
   "mimetype": "text/x-python",
   "name": "python",
   "nbconvert_exporter": "python",
   "pygments_lexer": "ipython3",
   "version": "3.9.7"
  }
 },
 "nbformat": 4,
 "nbformat_minor": 4
}
